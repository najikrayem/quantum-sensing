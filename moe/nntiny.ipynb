{
 "cells": [
  {
   "cell_type": "markdown",
   "metadata": {},
   "source": [
    "<h1>\n",
    "Neural Network Attempt\n",
    "<h1>"
   ]
  },
  {
   "cell_type": "markdown",
   "metadata": {},
   "source": [
    "<h2>Import Necessary Libraries<h2>"
   ]
  },
  {
   "cell_type": "code",
   "execution_count": null,
   "metadata": {},
   "outputs": [],
   "source": [
    "import numpy as np\n",
    "import pandas as pd\n",
    "import math"
   ]
  },
  {
   "cell_type": "markdown",
   "metadata": {},
   "source": [
    "<h2> Load Data <h2>\n",
    "<h3>\n",
    "<p>Output: Training <p>\n",
    "<p>Correct: Target <p>\n",
    "<h3>"
   ]
  },
  {
   "cell_type": "code",
   "execution_count": 48,
   "metadata": {},
   "outputs": [],
   "source": [
    "outputfn = \"OutputTiny.csv\"\n",
    "correctfn = \"CorrectTiny.csv\"\n",
    "outputdf = pd.read_csv(outputfn)\n",
    "correctdf = pd.read_csv(correctfn)"
   ]
  },
  {
   "cell_type": "markdown",
   "metadata": {},
   "source": [
    "<h2> Calibrate the Neural Network <h1>"
   ]
  },
  {
   "cell_type": "code",
   "execution_count": 219,
   "metadata": {},
   "outputs": [],
   "source": [
    "lr = 0.00000007 # learning rate\n",
    "#worked best experimentally likely due to the large volume of data\n",
    "hn = 4 #hidden nodes\n",
    "inputs = 10 #input and output nodes\n",
    "n = 2 * inputs * hn # total weights\n",
    "weights = np.random.uniform(0, 1, n) + 1.0j * np.random.uniform(0, 1, n)\n",
    "biases = [0]*hn #for clarity in formulas, not used"
   ]
  },
  {
   "cell_type": "markdown",
   "metadata": {},
   "source": [
    "<h2> Load Helper Functions / NN Structure <h2>"
   ]
  },
  {
   "cell_type": "code",
   "execution_count": 220,
   "metadata": {},
   "outputs": [],
   "source": [
    "# lines marked R are to be used when using complex ReLu\n",
    "def complex_relu(num):\n",
    "    return complex(max(num.real,0) + 1.0j*max(num.imag,0))\n",
    "def dev_complex_relu(num):\n",
    "    imaginary = 0\n",
    "    real_num = 0\n",
    "    if num.imag > 0:\n",
    "        imaginary = 1\n",
    "    if num.real > 0:\n",
    "        real_num = 1\n",
    "    return complex(real_num + 1.0j*imaginary)\n",
    "def complex_sigmoid(num):\n",
    "    return complex(1/(1 + np.exp(-1*num.real)) + (1/(1 + np.exp(-1*num.imag)))*1.0j)\n",
    "def forward_propagation(inputA):\n",
    "    hidden_layer = biases\n",
    "    for k in range(0,len(hidden_layer)):\n",
    "        for i in range(0,len(inputA)):\n",
    "            hidden_layer[k] +=  complex(inputA[i].replace('i','j'))*weights[i+(len(inputA)*k)]\n",
    "        #hidden_layer[k] = complex_relu(hidden_layer[k]) #R\n",
    "        hidden_layer[k] = complex_sigmoid(hidden_layer[k])\n",
    "    output = [0]*len(inputA)\n",
    "    for k in range(0,len(hidden_layer)):\n",
    "        for i in range(0,len(inputA)):\n",
    "            output[i] +=  hidden_layer[k]*(weights[i+(len(hidden_layer)*len(inputA) + (len(inputA)*k))])\n",
    "    for i in range(0, len(output)):\n",
    "        output[i] = complex_sigmoid(output[i])\n",
    "    return output\n",
    "\n",
    "def back_propagation(start, end):\n",
    "    bp_gradient = [0]*len(weights)\n",
    "    bp_gradient_b = [0]*len(biases)\n",
    "    for x in range(start, end+1):\n",
    "        outputdf_list =outputdf[str(x)].to_list() \n",
    "        correctdf_list =correctdf[str(x)].to_list()  \n",
    "        output = forward_propagation(outputdf_list)\n",
    "        for i in range(0,len(bp_gradient)):\n",
    "            h = math.floor(i/inputs)\n",
    "            if i <= n/2:\n",
    "                sum = 0\n",
    "                mult = 2*(output[i%inputs]- complex(correctdf_list[i%inputs].replace('i','j')))\n",
    "                for j in range(0, len(output)):\n",
    "                    #sum += weights[400+j] * dev_complex_relu(output[j]) * mult #R\n",
    "                    sum += weights[int(n/2)+j] * output[j] * mult\n",
    "                temp = complex_sigmoid(weights[i]*complex(outputdf_list[i%inputs].replace('i','j'))+biases[min(h,hn-1)])           \n",
    "                bp_gradient[i] += complex(outputdf_list[i%inputs].replace('i','j')) * temp*(1-temp) * sum    \n",
    "                #bp_gradient[i] += (complex(outputdf_list[i%inputs].replace('i','j')) * dev_complex_relu(weights[i] #R\n",
    "                # * complex(outputdf_list[i%inputs].replace('i','j'))+biases[min(h,hn)]) * sum) #R\n",
    "\n",
    "            else:\n",
    "                sum = 0\n",
    "                for j in range(0, len(outputdf_list)):\n",
    "                    sum += complex(outputdf_list[j].replace('i','j'))*weights[j+(inputs*h)]\n",
    "                temp = complex_sigmoid(sum)\n",
    "                bp_gradient[i] += sum * temp * (1-temp) * 2 *(output[i%inputs]- complex(correctdf_list[i%inputs].replace('i','j')))\n",
    "                #bp_gradient[i] += sum * dev_complex_relu(sum) * 2 *(output[i%100]- complex(correctdf_list[i%100].replace('i','j'))) #R\n",
    "    for x in range(start, end+1):\n",
    "        outputdf_list =outputdf[str(x)].to_list() \n",
    "        correctdf_list =correctdf[str(x)].to_list()  \n",
    "        output = forward_propagation(outputdf_list)\n",
    "    for i in range(0, len(weights)):\n",
    "        weights[i] = weights[i] - lr*bp_gradient[i]/(start-end)\n",
    "\n",
    "\n",
    "        "
   ]
  },
  {
   "cell_type": "markdown",
   "metadata": {},
   "source": [
    "<h2> Train the NN <h2>"
   ]
  },
  {
   "cell_type": "code",
   "execution_count": null,
   "metadata": {},
   "outputs": [],
   "source": [
    "#Assuming 100000 data points with batch size = 20 for 5000 batches\n",
    "for i in range(1,5001):\n",
    "    back_propagation((i-1)*20+1, i*20)"
   ]
  },
  {
   "cell_type": "markdown",
   "metadata": {},
   "source": [
    "<h1> Test the Error Rates <h1>"
   ]
  },
  {
   "cell_type": "code",
   "execution_count": null,
   "metadata": {},
   "outputs": [],
   "source": [
    "error_nn_r, error_nn_i, error_c_r, error_c_i = 0\n",
    "for i in range(1, len(outputdf)):\n",
    "    out = forward_propagation(outputdf[str(i)].to_list())\n",
    "    inp = outputdf[str(i)].to_list() \n",
    "    cor = correctdf[str(i)].to_list() \n",
    "    div = len(inp)\n",
    "    for j in range(0, len(inp)):\n",
    "        error_nn_r += (out[j].real - complex(cor[j].replace('i','j')).real)**2\n",
    "        error_nn_i += (out[j].imag - complex(cor[j].replace('i','j')).imag)**2\n",
    "        error_c_r  += (complex(inp[j].replace('i','j')).real - complex(cor[j].replace('i','j')).real)**2\n",
    "        error_c_i  += (complex(inp[j].replace('i','j')).imag - complex(cor[j].replace('i','j')).imag)**2\n",
    "print(f\"Neural Network Error (Real): {error_nn_r/(div*len(outputdf))}\")\n",
    "print(f\"Neural Network Error (Imag): {error_nn_i/(div*len(outputdf))}\")\n",
    "print(f\"Transfer Estim Error (Real): {error_c_r/(div*len(outputdf))}\")\n",
    "print(f\"Transfer Estim Error (Real): {error_c_i/(div*len(outputdf))}\")\n"
   ]
  },
  {
   "cell_type": "markdown",
   "metadata": {},
   "source": [
    "<h2>Save Weights and Biases<h2>"
   ]
  },
  {
   "cell_type": "code",
   "execution_count": 7,
   "metadata": {},
   "outputs": [],
   "source": [
    "\n",
    "w_file = open('weights.txt','w')\n",
    "b_file = open('biases.txt', 'w') \n",
    "w_file.writelines([str(x)+\"\\n\" for x in weights])\n",
    "b_file.writelines([str(x)+\"\\n\" for x in biases])"
   ]
  }
 ],
 "metadata": {
  "kernelspec": {
   "display_name": "Python 3",
   "language": "python",
   "name": "python3"
  },
  "language_info": {
   "codemirror_mode": {
    "name": "ipython",
    "version": 3
   },
   "file_extension": ".py",
   "mimetype": "text/x-python",
   "name": "python",
   "nbconvert_exporter": "python",
   "pygments_lexer": "ipython3",
   "version": "3.9.6"
  }
 },
 "nbformat": 4,
 "nbformat_minor": 2
}
